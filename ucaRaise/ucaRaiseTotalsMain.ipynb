{
 "cells": [
  {
   "cell_type": "code",
   "execution_count": 2,
   "metadata": {},
   "outputs": [],
   "source": [
    "import numpy as np\n",
    "import pandas as pd"
   ]
  },
  {
   "cell_type": "markdown",
   "metadata": {},
   "source": [
    "## UCA Raise Data Project Summary\n",
    "Calculate and gather projected cost of the UCA program if we have been giving raises since the beginning of the program in all the ways listed below: \n",
    "- Look into a single raise of either \\$0.25 or \\$0.50 for all returning UCAs regardless of how many semesters they have worked\n",
    "- Look into a continuous raise of either \\$0.25 or \\$0.50 for each continual semester the UCA is hired. (\"compounded\")\n",
    "\n",
    "\n",
    "The end goal is to make the program and the position more competitive"
   ]
  },
  {
   "cell_type": "markdown",
   "metadata": {},
   "source": [
    "### Data summary and quick explanation\n",
    "All Data created from the allUCAsHiredFINAL excel sheet created from the same titled google sheet in the UCA Leadership Drive (folder: Grace's Summer Data). Has 6 columns: \"Course\", \"Full Name\", \"Email\", \"Spire ID\", \"UCA In Past?\", \"Hours\"\n",
    "\n",
    "Assumptions made: All UCA data is correct. If a few people ended up not being hired it will not affect the end numbers that much. Data cleaning had minimal affect.\n",
    "\n",
    "<br>\n",
    "\n",
    "### Data cleaning: manually done by Grace 05/17/2021\n",
    "- From all semesters before F21, I filled hours in as 5. \n",
    "- In the S18 sheet there were no emails so I found some from F18 and the rest I filled in with what I believe would be their email.\n",
    "- In F19, I went to the applications and found all associated Spire IDs and filled them in \n",
    "- Keeping NaN values for Spire ID and UCa in Past? since I will not be using those columns for now\n"
   ]
  },
  {
   "cell_type": "code",
   "execution_count": 3,
   "metadata": {},
   "outputs": [],
   "source": [
    "UCAHiredData = pd.read_excel(\"allUCAsHiredFINAL.xlsx\", sheet_name=[\"S18\", \"F18\", \"S19\", \"F19\", \"S20\", \"F20\", \"S21\", \"F21\", \"S22\"])\n",
    "\n",
    "S18data = pd.read_excel(\"allUCAsHiredFINAL.xlsx\", sheet_name=[\"S18\"])\n",
    "F18data = pd.read_excel(\"allUCAsHiredFINAL.xlsx\", sheet_name=[\"F18\"])\n",
    "S19data = pd.read_excel(\"allUCAsHiredFINAL.xlsx\", sheet_name=[\"S19\"])\n",
    "F19data = pd.read_excel(\"allUCAsHiredFINAL.xlsx\", sheet_name=[\"F19\"])\n",
    "S20data = pd.read_excel(\"allUCAsHiredFINAL.xlsx\", sheet_name=[\"S20\"])\n",
    "F20data = pd.read_excel(\"allUCAsHiredFINAL.xlsx\", sheet_name=[\"F20\"])\n",
    "S21data = pd.read_excel(\"allUCAsHiredFINAL.xlsx\", sheet_name=[\"S21\"])\n",
    "F21data = pd.read_excel(\"allUCAsHiredFINAL.xlsx\", sheet_name=[\"F21\"])\n",
    "S22data = pd.read_excel(\"allUCAsHiredFINAL.xlsx\", sheet_name=[\"S22\"])"
   ]
  },
  {
   "cell_type": "markdown",
   "metadata": {},
   "source": [
    "### Constants and variables that will need to be updated if adding more semester data.\n",
    "- Hourly Rate for each semester\n",
    "- A dictionary of the semester data"
   ]
  },
  {
   "cell_type": "code",
   "execution_count": 4,
   "metadata": {},
   "outputs": [],
   "source": [
    "semesterHourlyRate = {\n",
    "    \"S18\": 13.25,\n",
    "    \"F18\": 13.25,\n",
    "    \"S19\": 13.25,\n",
    "    \"F19\": 13.25,\n",
    "    \"S20\": 13.25,\n",
    "    \"F20\": 13.25,\n",
    "    \"S21\": 13.50,\n",
    "    \"F21\": 13.50,\n",
    "    \"S22\": 14.25,\n",
    "}\n",
    "\n",
    "semesterData = {\n",
    "    \"S18\": S18data['S18'],\n",
    "    \"F18\": F18data['F18'],\n",
    "    \"S19\": S19data[\"S19\"],\n",
    "    \"F19\": F19data[\"F19\"],\n",
    "    \"S20\": S20data[\"S20\"],\n",
    "    \"F20\": F20data[\"F20\"],\n",
    "    \"S21\": S21data[\"S21\"],\n",
    "    \"F21\": F21data[\"F21\"],\n",
    "    \"S22\": S22data[\"S22\"],\n",
    "}\n",
    "\n",
    "storeSemesterNames = [] #['S18', 'F18', 'S19', 'F19', 'S20', 'F20', 'S21', 'F21']\n",
    "for semester in semesterData:\n",
    "    storeSemesterNames.append(semester)\n",
    "\n",
    "semesterUCAPayLevel = {}"
   ]
  },
  {
   "cell_type": "markdown",
   "metadata": {},
   "source": [
    "### Parameters that you should change based off of:\n",
    "- How large of a raise? (\\$0.25 or \\$0.50)\n",
    "- A single raise or a compounded raise depending on if they return more than 1 semester? "
   ]
  },
  {
   "cell_type": "code",
   "execution_count": 5,
   "metadata": {},
   "outputs": [],
   "source": [
    "#0.25 or 0.50\n",
    "RAISE_AMOUNT = 0.25\n",
    "\n",
    "#\"SINGLE\" or \"COMPOUNDED\"\n",
    "RAISE_TYPE = \"COMPOUNDED\"\n",
    "\n",
    "#takes into account the 15 week pay period (75 hours for a 5 hour UCA)\n",
    "WEEKS_PAID = 15"
   ]
  },
  {
   "cell_type": "markdown",
   "metadata": {},
   "source": [
    "### Return Values \n",
    "- Total sum of all\n",
    "- Total Cost Per UCA dict {string email: int money} -> turn into a dataframe later\n",
    "- A dict with keys as email string and values as int. {email@umass.edu: 2} with 2 meaning they have been a UCA 2 times"
   ]
  },
  {
   "cell_type": "code",
   "execution_count": 6,
   "metadata": {},
   "outputs": [],
   "source": [
    "totalCostWithRaise = 0\n",
    "totalRaiseCost = 0\n",
    "totalCostPerUCA = {}\n",
    "beenUCAtracker = {}\n",
    "\n",
    "#single raise - so it doesn't matter how many times they have been a UCA, if they were a UCA for more than 1 time then they get a single raise\n",
    "\n",
    "#ucaCost(String, String) => int\n",
    "def ucaCostSINGLE(email, semesterName, hours):\n",
    "\n",
    "    # cost of a UCA = hourly rate * hours worked * weeks paid\n",
    "    cost = semesterHourlyRate[semesterName]*hours*WEEKS_PAID\n",
    "\n",
    "    semestersWorked = (beenUCAtracker[email][\"ucaPositions\"] - 1)\n",
    "    #raise money \n",
    "    if semestersWorked >  0:\n",
    "        raiseMoney = RAISE_AMOUNT*WEEKS_PAID*hours\n",
    "    else:\n",
    "        raiseMoney = 0\n",
    "\n",
    "    costResult = {\n",
    "        \"ucaCost\": cost + raiseMoney,\n",
    "        \"cost\": cost,\n",
    "        \"raise\": raiseMoney\n",
    "    }\n",
    "\n",
    "    return costResult\n",
    "\n",
    "\n",
    "\n",
    "#compouned raise - so it does matter how many times they have been a UCA, if they were a UCA for more than 1 time then they get raise amount * amount of returning semesters\n",
    "\n",
    "#ucaCostCOMPOUNED(String, String) => int\n",
    "def ucaCostCOMPOUNDED(email, semesterName, hours):\n",
    "\n",
    "    # cost of a UCA = hourly rate * hours worked * weeks paid\n",
    "    cost = semesterHourlyRate[semesterName]*hours*WEEKS_PAID\n",
    "\n",
    "    #raise money \n",
    "    raiseMoney = (beenUCAtracker[email][\"ucaPositions\"] - 1)*RAISE_AMOUNT*WEEKS_PAID*hours\n",
    "\n",
    "    costResult = {\n",
    "        \"ucaCost\": cost + raiseMoney,\n",
    "        \"cost\": cost,\n",
    "        \"raise\": raiseMoney\n",
    "    }\n",
    "\n",
    "    return costResult\n",
    "\n",
    "    #if email in totalCostPerUCA:\n",
    "    #    totalCostPerUCA[email] = totalCostPerUCA[email]\n",
    "    #else:\n",
    "    #    totalCostPerUCA[email] = ucaCost\n"
   ]
  },
  {
   "cell_type": "markdown",
   "metadata": {},
   "source": [
    "### General Algorithm\n",
    "For each semester, go through each row and for every email store it into a dict that tells us how many times this person has been a UCA. Then it calculates the cost of that UCA and their relative raise. Then we keep track of the total cost of each unique UCA, the total cost with the raise, and the cost of just the raise. "
   ]
  },
  {
   "cell_type": "code",
   "execution_count": 7,
   "metadata": {
    "tags": []
   },
   "outputs": [],
   "source": [
    "beenUCAtracker = {}\n",
    "for semester in semesterData:\n",
    "    currSemDF = semesterData[semester]\n",
    "\n",
    "    #add the emails into the beenUCAtracker dict to count how many times they have been a UCA. \n",
    "    for row in currSemDF.itertuples(index=False):\n",
    "    #row = Pandas(Course=105, _1='full name', Email='something@umass.edu', _3=spire id, _4=uca in the past y/n, Hours=5)\n",
    "        email = row[2] \n",
    "        if email in beenUCAtracker:\n",
    "            countUCATimes = beenUCAtracker[email][\"ucaPositions\"]\n",
    "            beenUCAtracker[email] = {\"ucaPositions\": countUCATimes + 1, \"mostCurrSem\": semester, \"hours\": row[5]}\n",
    "        else:\n",
    "            beenUCAtracker[email] = {\"ucaPositions\": 1, \"mostCurrSem\": semester, \"hours\": row[5]}\n",
    "        \n",
    "\n",
    "        if RAISE_TYPE == \"SINGLE\":\n",
    "            costResult = ucaCostSINGLE(email, semester, beenUCAtracker[email][\"hours\"])\n",
    "            totalCostWithRaise += costResult[\"ucaCost\"]\n",
    "            totalRaiseCost += costResult[\"raise\"]\n",
    "\n",
    "        if RAISE_TYPE == \"COMPOUNDED\":\n",
    "            costResult = ucaCostCOMPOUNDED(email, semester, beenUCAtracker[email][\"hours\"])\n",
    "            totalCostWithRaise += costResult[\"ucaCost\"]\n",
    "            totalRaiseCost += costResult[\"raise\"]\n",
    "        \n",
    "        if email in totalCostPerUCA:\n",
    "            totalCostPerUCA[email] = totalCostPerUCA[email] + costResult[\"ucaCost\"]\n",
    "        else:\n",
    "            totalCostPerUCA[email] = costResult[\"ucaCost\"]\n",
    "\n",
    "    currentbeenUCAtracker = beenUCAtracker.copy()\n",
    "    semesterUCAPayLevel[semester] = currentbeenUCAtracker\n",
    "\n",
    "#print(beenUCAtracker)"
   ]
  },
  {
   "cell_type": "code",
   "execution_count": 8,
   "metadata": {},
   "outputs": [
    {
     "data": {
      "text/plain": [
       "1137768.75"
      ]
     },
     "execution_count": 8,
     "metadata": {},
     "output_type": "execute_result"
    }
   ],
   "source": [
    "totalCostWithRaise"
   ]
  },
  {
   "cell_type": "code",
   "execution_count": 9,
   "metadata": {},
   "outputs": [
    {
     "data": {
      "text/plain": [
       "20512.5"
      ]
     },
     "execution_count": 9,
     "metadata": {},
     "output_type": "execute_result"
    }
   ],
   "source": [
    "totalRaiseCost"
   ]
  },
  {
   "cell_type": "code",
   "execution_count": 10,
   "metadata": {},
   "outputs": [],
   "source": [
    "#totalCostPerUCA"
   ]
  },
  {
   "cell_type": "code",
   "execution_count": 11,
   "metadata": {},
   "outputs": [
    {
     "data": {
      "text/html": [
       "<div>\n",
       "<style scoped>\n",
       "    .dataframe tbody tr th:only-of-type {\n",
       "        vertical-align: middle;\n",
       "    }\n",
       "\n",
       "    .dataframe tbody tr th {\n",
       "        vertical-align: top;\n",
       "    }\n",
       "\n",
       "    .dataframe thead th {\n",
       "        text-align: right;\n",
       "    }\n",
       "</style>\n",
       "<table border=\"1\" class=\"dataframe\">\n",
       "  <thead>\n",
       "    <tr style=\"text-align: right;\">\n",
       "      <th></th>\n",
       "      <th>Email</th>\n",
       "      <th>Total Earnings</th>\n",
       "    </tr>\n",
       "  </thead>\n",
       "  <tbody>\n",
       "    <tr>\n",
       "      <th>0</th>\n",
       "      <td>kluo@umass.edu</td>\n",
       "      <td>993.75</td>\n",
       "    </tr>\n",
       "    <tr>\n",
       "      <th>1</th>\n",
       "      <td>aviola@umass.edu</td>\n",
       "      <td>5156.25</td>\n",
       "    </tr>\n",
       "    <tr>\n",
       "      <th>2</th>\n",
       "      <td>edmann@umass.edu</td>\n",
       "      <td>3037.50</td>\n",
       "    </tr>\n",
       "    <tr>\n",
       "      <th>3</th>\n",
       "      <td>denlow@umass.edu</td>\n",
       "      <td>993.75</td>\n",
       "    </tr>\n",
       "    <tr>\n",
       "      <th>4</th>\n",
       "      <td>allussier@umass.edu</td>\n",
       "      <td>5156.25</td>\n",
       "    </tr>\n",
       "    <tr>\n",
       "      <th>...</th>\n",
       "      <td>...</td>\n",
       "      <td>...</td>\n",
       "    </tr>\n",
       "    <tr>\n",
       "      <th>489</th>\n",
       "      <td>mweiner@umass.edu</td>\n",
       "      <td>1068.75</td>\n",
       "    </tr>\n",
       "    <tr>\n",
       "      <th>490</th>\n",
       "      <td>seoyunjeong@umass.edu</td>\n",
       "      <td>2137.50</td>\n",
       "    </tr>\n",
       "    <tr>\n",
       "      <th>491</th>\n",
       "      <td>vaidehianand@umass.edu</td>\n",
       "      <td>2137.50</td>\n",
       "    </tr>\n",
       "    <tr>\n",
       "      <th>492</th>\n",
       "      <td>igoyal@umass.edu</td>\n",
       "      <td>1068.75</td>\n",
       "    </tr>\n",
       "    <tr>\n",
       "      <th>493</th>\n",
       "      <td>sonnymei@umass.edu</td>\n",
       "      <td>1068.75</td>\n",
       "    </tr>\n",
       "  </tbody>\n",
       "</table>\n",
       "<p>494 rows × 2 columns</p>\n",
       "</div>"
      ],
      "text/plain": [
       "                      Email  Total Earnings\n",
       "0            kluo@umass.edu          993.75\n",
       "1          aviola@umass.edu         5156.25\n",
       "2          edmann@umass.edu         3037.50\n",
       "3          denlow@umass.edu          993.75\n",
       "4       allussier@umass.edu         5156.25\n",
       "..                      ...             ...\n",
       "489       mweiner@umass.edu         1068.75\n",
       "490   seoyunjeong@umass.edu         2137.50\n",
       "491  vaidehianand@umass.edu         2137.50\n",
       "492        igoyal@umass.edu         1068.75\n",
       "493      sonnymei@umass.edu         1068.75\n",
       "\n",
       "[494 rows x 2 columns]"
      ]
     },
     "execution_count": 11,
     "metadata": {},
     "output_type": "execute_result"
    }
   ],
   "source": [
    "totalCostPerUCADF = pd.DataFrame(list(totalCostPerUCA.items()),columns = [\"Email\", \"Total Earnings\"]) \n",
    "totalCostPerUCADF"
   ]
  },
  {
   "cell_type": "markdown",
   "metadata": {},
   "source": [
    "Looking at Pay Levels per semester - will be calculated more on the spreadsheet"
   ]
  },
  {
   "cell_type": "code",
   "execution_count": 12,
   "metadata": {},
   "outputs": [],
   "source": [
    "payLevelS18 = pd.DataFrame(semesterUCAPayLevel[\"S18\"]).transpose()\n",
    "\n",
    "payLevelF18 = pd.DataFrame(semesterUCAPayLevel[\"F18\"]).transpose()\n",
    "payLevelF18 = payLevelF18[payLevelF18[\"mostCurrSem\"]==\"F18\"]\n",
    "\n",
    "payLevelS19 = pd.DataFrame(semesterUCAPayLevel[\"S19\"]).transpose()\n",
    "payLevelS19 = payLevelS19[payLevelS19[\"mostCurrSem\"]==\"S19\"]\n",
    "\n",
    "payLevelF19 = pd.DataFrame(semesterUCAPayLevel[\"F19\"]).transpose()\n",
    "payLevelF19 = payLevelF19[payLevelF19[\"mostCurrSem\"]==\"F19\"]\n",
    "\n",
    "payLevelS20 = pd.DataFrame(semesterUCAPayLevel[\"S20\"]).transpose()\n",
    "payLevelS20 = payLevelS20[payLevelS20[\"mostCurrSem\"]==\"S20\"]\n",
    "\n",
    "payLevelF20 = pd.DataFrame(semesterUCAPayLevel[\"F20\"]).transpose()\n",
    "payLevelF20 = payLevelF20[payLevelF20[\"mostCurrSem\"]==\"F20\"]\n",
    "\n",
    "payLevelS21 = pd.DataFrame(semesterUCAPayLevel[\"S21\"]).transpose()\n",
    "payLevelS21 = payLevelS21[payLevelS21[\"mostCurrSem\"]==\"S21\"]\n",
    "\n",
    "payLevelF21 = pd.DataFrame(semesterUCAPayLevel[\"F21\"]).transpose()\n",
    "payLevelF21 = payLevelF21[payLevelF21[\"mostCurrSem\"]==\"F21\"]\n",
    "\n",
    "payLevelS22 = pd.DataFrame(semesterUCAPayLevel[\"S22\"]).transpose()\n",
    "payLevelS22 = payLevelS22[payLevelS22[\"mostCurrSem\"]==\"S22\"]"
   ]
  },
  {
   "cell_type": "code",
   "execution_count": 13,
   "metadata": {},
   "outputs": [],
   "source": [
    "#Exporting Excel Sheets\n",
    "\n",
    "# writer = pd.ExcelWriter('payLevelS22.xlsx')\n",
    "# # write dataframe to excel\n",
    "# payLevelS22.to_excel(writer)\n",
    "# # save the excel\n",
    "# writer.save()"
   ]
  },
  {
   "cell_type": "code",
   "execution_count": 14,
   "metadata": {},
   "outputs": [
    {
     "data": {
      "text/html": [
       "<div>\n",
       "<style scoped>\n",
       "    .dataframe tbody tr th:only-of-type {\n",
       "        vertical-align: middle;\n",
       "    }\n",
       "\n",
       "    .dataframe tbody tr th {\n",
       "        vertical-align: top;\n",
       "    }\n",
       "\n",
       "    .dataframe thead th {\n",
       "        text-align: right;\n",
       "    }\n",
       "</style>\n",
       "<table border=\"1\" class=\"dataframe\">\n",
       "  <thead>\n",
       "    <tr style=\"text-align: right;\">\n",
       "      <th></th>\n",
       "      <th>ucaPositions</th>\n",
       "      <th>mostCurrSem</th>\n",
       "      <th>hours</th>\n",
       "    </tr>\n",
       "  </thead>\n",
       "  <tbody>\n",
       "    <tr>\n",
       "      <th>bparkman@umass.edu</th>\n",
       "      <td>6</td>\n",
       "      <td>S22</td>\n",
       "      <td>10</td>\n",
       "    </tr>\n",
       "    <tr>\n",
       "      <th>rzabounidis@umass.edu</th>\n",
       "      <td>7</td>\n",
       "      <td>S22</td>\n",
       "      <td>5</td>\n",
       "    </tr>\n",
       "    <tr>\n",
       "      <th>gzwei@umass.edu</th>\n",
       "      <td>6</td>\n",
       "      <td>S22</td>\n",
       "      <td>5</td>\n",
       "    </tr>\n",
       "    <tr>\n",
       "      <th>hbhoang@umass.edu</th>\n",
       "      <td>5</td>\n",
       "      <td>S22</td>\n",
       "      <td>5</td>\n",
       "    </tr>\n",
       "    <tr>\n",
       "      <th>sdadireddy@umass.edu</th>\n",
       "      <td>6</td>\n",
       "      <td>S22</td>\n",
       "      <td>10</td>\n",
       "    </tr>\n",
       "    <tr>\n",
       "      <th>...</th>\n",
       "      <td>...</td>\n",
       "      <td>...</td>\n",
       "      <td>...</td>\n",
       "    </tr>\n",
       "    <tr>\n",
       "      <th>mweiner@umass.edu</th>\n",
       "      <td>1</td>\n",
       "      <td>S22</td>\n",
       "      <td>5</td>\n",
       "    </tr>\n",
       "    <tr>\n",
       "      <th>seoyunjeong@umass.edu</th>\n",
       "      <td>1</td>\n",
       "      <td>S22</td>\n",
       "      <td>10</td>\n",
       "    </tr>\n",
       "    <tr>\n",
       "      <th>vaidehianand@umass.edu</th>\n",
       "      <td>1</td>\n",
       "      <td>S22</td>\n",
       "      <td>10</td>\n",
       "    </tr>\n",
       "    <tr>\n",
       "      <th>igoyal@umass.edu</th>\n",
       "      <td>1</td>\n",
       "      <td>S22</td>\n",
       "      <td>5</td>\n",
       "    </tr>\n",
       "    <tr>\n",
       "      <th>sonnymei@umass.edu</th>\n",
       "      <td>1</td>\n",
       "      <td>S22</td>\n",
       "      <td>5</td>\n",
       "    </tr>\n",
       "  </tbody>\n",
       "</table>\n",
       "<p>143 rows × 3 columns</p>\n",
       "</div>"
      ],
      "text/plain": [
       "                       ucaPositions mostCurrSem hours\n",
       "bparkman@umass.edu                6         S22    10\n",
       "rzabounidis@umass.edu             7         S22     5\n",
       "gzwei@umass.edu                   6         S22     5\n",
       "hbhoang@umass.edu                 5         S22     5\n",
       "sdadireddy@umass.edu              6         S22    10\n",
       "...                             ...         ...   ...\n",
       "mweiner@umass.edu                 1         S22     5\n",
       "seoyunjeong@umass.edu             1         S22    10\n",
       "vaidehianand@umass.edu            1         S22    10\n",
       "igoyal@umass.edu                  1         S22     5\n",
       "sonnymei@umass.edu                1         S22     5\n",
       "\n",
       "[143 rows x 3 columns]"
      ]
     },
     "execution_count": 14,
     "metadata": {},
     "output_type": "execute_result"
    }
   ],
   "source": [
    "# payLevelS22"
   ]
  }
 ],
 "metadata": {
  "interpreter": {
   "hash": "13a41e831bbd0b17a25c82f06375768528fa089976c47ebf46dfb693b2189115"
  },
  "kernelspec": {
   "display_name": "Python 3.8.8 64-bit ('base': conda)",
   "language": "python",
   "name": "python3"
  },
  "language_info": {
   "codemirror_mode": {
    "name": "ipython",
    "version": 3
   },
   "file_extension": ".py",
   "mimetype": "text/x-python",
   "name": "python",
   "nbconvert_exporter": "python",
   "pygments_lexer": "ipython3",
   "version": "3.8.8"
  },
  "orig_nbformat": 3
 },
 "nbformat": 4,
 "nbformat_minor": 2
}
