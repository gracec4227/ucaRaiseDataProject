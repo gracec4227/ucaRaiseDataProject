{
 "cells": [
  {
   "cell_type": "code",
   "execution_count": 1,
   "metadata": {},
   "outputs": [],
   "source": [
    "import numpy as np\n",
    "import pandas as pd"
   ]
  },
  {
   "cell_type": "markdown",
   "metadata": {},
   "source": [
    "## UCA Raise Data Project Summary\n",
    "Calculate and gather projected cost of the UCA program if we have been giving raises since the beginning of the program in all the ways listed below: \n",
    "- Look into a single raise of either \\$0.25 or \\$0.50 for all returning UCAs regardless of how many semesters they have worked\n",
    "- Look into a continuous raise of either \\$0.25 or \\$0.50 for each continual semester the UCA is hired. (\"compounded\")\n",
    "\n",
    "\n",
    "The end goal is to make the program and the position more competitive"
   ]
  },
  {
   "cell_type": "markdown",
   "metadata": {},
   "source": [
    "### Data summary and quick explanation\n",
    "All Data created from the allUCAsHiredFINAL excel sheet created from the same titled google sheet in the UCA Leadership Drive (folder: Grace's Summer Data). Has 6 columns: \"Course\", \"Full Name\", \"Email\", \"Spire ID\", \"UCA In Past?\", \"Hours\"\n",
    "\n",
    "Assumptions made: All UCA data is correct. If a few people ended up not being hired it will not affect the end numbers that much. Data cleaning had minimal affect.\n",
    "\n",
    "<br>\n",
    "\n",
    "### Data cleaning: manually done by Grace 05/17/2021\n",
    "- From all semesters before F21, I filled hours in as 5. \n",
    "- In the S18 sheet there were no emails so I found some from F18 and the rest I filled in with what I believe would be their email.\n",
    "- In F19, I went to the applications and found all associated Spire IDs and filled them in \n",
    "- Keeping NaN values for Spire ID and UCa in Past? since I will not be using those columns for now\n"
   ]
  },
  {
   "cell_type": "code",
   "execution_count": 2,
   "metadata": {},
   "outputs": [],
   "source": [
    "UCAHiredData = pd.read_excel(\"allUCAsHiredFINAL.xlsx\", sheet_name=[\"S18\", \"F18\", \"S19\", \"F19\", \"S20\", \"F20\", \"S21\", \"F21\"])\n",
    "\n",
    "S18data = pd.read_excel(\"allUCAsHiredFINAL.xlsx\", sheet_name=[\"S18\"])\n",
    "F18data = pd.read_excel(\"allUCAsHiredFINAL.xlsx\", sheet_name=[\"F18\"])\n",
    "S19data = pd.read_excel(\"allUCAsHiredFINAL.xlsx\", sheet_name=[\"S19\"])\n",
    "F19data = pd.read_excel(\"allUCAsHiredFINAL.xlsx\", sheet_name=[\"F19\"])\n",
    "S20data = pd.read_excel(\"allUCAsHiredFINAL.xlsx\", sheet_name=[\"S20\"])\n",
    "F20data = pd.read_excel(\"allUCAsHiredFINAL.xlsx\", sheet_name=[\"F20\"])\n",
    "S21data = pd.read_excel(\"allUCAsHiredFINAL.xlsx\", sheet_name=[\"S21\"])\n",
    "F21data = pd.read_excel(\"allUCAsHiredFINAL.xlsx\", sheet_name=[\"F21\"])"
   ]
  },
  {
   "cell_type": "markdown",
   "metadata": {},
   "source": [
    "### Constants and variables that will need to be updated if adding more semester data.\n",
    "- Hourly Rate for each semester\n",
    "- A dictionary of the semester data"
   ]
  },
  {
   "cell_type": "code",
   "execution_count": 3,
   "metadata": {},
   "outputs": [],
   "source": [
    "semesterHourlyRate = {\r\n",
    "    \"S18\": 13.25,\r\n",
    "    \"F18\": 13.25,\r\n",
    "    \"S19\": 13.25,\r\n",
    "    \"F19\": 13.25,\r\n",
    "    \"S20\": 13.25,\r\n",
    "    \"F20\": 13.25,\r\n",
    "    \"S21\": 13.50,\r\n",
    "    \"F21\": 14.25,\r\n",
    "}\r\n",
    "\r\n",
    "semesterData = {\r\n",
    "    \"S18\": S18data['S18'],\r\n",
    "    \"F18\": F18data['F18'],\r\n",
    "    \"S19\": S19data[\"S19\"],\r\n",
    "    \"F19\": F19data[\"F19\"],\r\n",
    "    \"S20\": S20data[\"S20\"],\r\n",
    "    \"F20\": F20data[\"F20\"],\r\n",
    "    \"S21\": S21data[\"S21\"],\r\n",
    "    \"F21\": F21data[\"F21\"]\r\n",
    "}\r\n",
    "\r\n",
    "storeSemesterNames = [] #['S18', 'F18', 'S19', 'F19', 'S20', 'F20', 'S21', 'F21']\r\n",
    "for semester in semesterData:\r\n",
    "    storeSemesterNames.append(semester)\r\n",
    "\r\n",
    "semesterUCAPayLevel = {}"
   ]
  },
  {
   "cell_type": "markdown",
   "metadata": {},
   "source": [
    "### Parameters that you should change based off of:\n",
    "- How large of a raise? (\\$0.25 or \\$0.50)\n",
    "- A single raise or a compounded raise depending on if they return more than 1 semester? "
   ]
  },
  {
   "cell_type": "code",
   "execution_count": 4,
   "metadata": {},
   "outputs": [],
   "source": [
    "#0.25 or 0.50\r\n",
    "RAISE_AMOUNT = 0.25\r\n",
    "\r\n",
    "#\"SINGLE\" or \"COMPOUNDED\"\r\n",
    "RAISE_TYPE = \"COMPOUNDED\"\r\n",
    "\r\n",
    "#takes into account the 14 week pay period (70 hours for a 5 hour UCA)\r\n",
    "WEEKS_PAID = 15"
   ]
  },
  {
   "cell_type": "markdown",
   "metadata": {},
   "source": [
    "### Return Values \n",
    "- Total sum of all\n",
    "- Total Cost Per UCA dict {string email: int money} -> turn into a dataframe later\n",
    "- A dict with keys as email string and values as int. {email@umass.edu: 2} with 2 meaning they have been a UCA 2 times"
   ]
  },
  {
   "cell_type": "code",
   "execution_count": 5,
   "metadata": {},
   "outputs": [],
   "source": [
    "totalCostWithRaise = 0\n",
    "totalRaiseCost = 0\n",
    "totalCostPerUCA = {}\n",
    "beenUCAtracker = {}\n",
    "\n",
    "#single raise - so it doesn't matter how many times they have been a UCA, if they were a UCA for more than 1 time then they get a single raise\n",
    "\n",
    "#ucaCost(String, String) => int\n",
    "def ucaCostSINGLE(email, semesterName, hours):\n",
    "\n",
    "    # cost of a UCA = hourly rate * hours worked * weeks paid\n",
    "    cost = semesterHourlyRate[semesterName]*hours*WEEKS_PAID\n",
    "\n",
    "    semestersWorked = (beenUCAtracker[email][\"ucaPositions\"] - 1)\n",
    "    #raise money \n",
    "    if semestersWorked >  0:\n",
    "        raiseMoney = RAISE_AMOUNT*WEEKS_PAID*hours\n",
    "    else:\n",
    "        raiseMoney = 0\n",
    "\n",
    "    costResult = {\n",
    "        \"ucaCost\": cost + raiseMoney,\n",
    "        \"cost\": cost,\n",
    "        \"raise\": raiseMoney\n",
    "    }\n",
    "\n",
    "    return costResult\n",
    "\n",
    "\n",
    "\n",
    "#compouned raise - so it does matter how many times they have been a UCA, if they were a UCA for more than 1 time then they get raise amount * amount of returning semesters\n",
    "\n",
    "#ucaCostCOMPOUNED(String, String) => int\n",
    "def ucaCostCOMPOUNDED(email, semesterName, hours):\n",
    "\n",
    "    # cost of a UCA = hourly rate * hours worked * weeks paid\n",
    "    cost = semesterHourlyRate[semesterName]*hours*WEEKS_PAID\n",
    "\n",
    "    #raise money \n",
    "    raiseMoney = (beenUCAtracker[email][\"ucaPositions\"] - 1)*RAISE_AMOUNT*WEEKS_PAID*hours\n",
    "\n",
    "    costResult = {\n",
    "        \"ucaCost\": cost + raiseMoney,\n",
    "        \"cost\": cost,\n",
    "        \"raise\": raiseMoney\n",
    "    }\n",
    "\n",
    "    return costResult\n",
    "\n",
    "    #if email in totalCostPerUCA:\n",
    "    #    totalCostPerUCA[email] = totalCostPerUCA[email]\n",
    "    #else:\n",
    "    #    totalCostPerUCA[email] = ucaCost\n"
   ]
  },
  {
   "cell_type": "markdown",
   "metadata": {},
   "source": [
    "### General Algorithm\n",
    "For each semester, go through each row and for every email store it into a dict that tells us how many times this person has been a UCA. Then it calculates the cost of that UCA and their relative raise. Then we keep track of the total cost of each unique UCA, the total cost with the raise, and the cost of just the raise. "
   ]
  },
  {
   "cell_type": "code",
   "execution_count": 6,
   "metadata": {
    "tags": []
   },
   "outputs": [],
   "source": [
    "beenUCAtracker = {}\n",
    "for semester in semesterData:\n",
    "    currSemDF = semesterData[semester]\n",
    "\n",
    "    #add the emails into the beenUCAtracker dict to count how many times they have been a UCA. \n",
    "    for row in currSemDF.itertuples(index=False):\n",
    "    #row = Pandas(Course=105, _1='full name', Email='something@umass.edu', _3=spire id, _4=uca in the past y/n, Hours=5)\n",
    "        email = row[2] \n",
    "        if email in beenUCAtracker:\n",
    "            countUCATimes = beenUCAtracker[email][\"ucaPositions\"]\n",
    "            beenUCAtracker[email] = {\"ucaPositions\": countUCATimes + 1, \"mostCurrSem\": semester, \"hours\": row[5]}\n",
    "        else:\n",
    "            beenUCAtracker[email] = {\"ucaPositions\": 1, \"mostCurrSem\": semester, \"hours\": row[5]}\n",
    "        \n",
    "\n",
    "        if RAISE_TYPE == \"SINGLE\":\n",
    "            costResult = ucaCostSINGLE(email, semester, beenUCAtracker[email][\"hours\"])\n",
    "            totalCostWithRaise += costResult[\"ucaCost\"]\n",
    "            totalRaiseCost += costResult[\"raise\"]\n",
    "\n",
    "        if RAISE_TYPE == \"COMPOUNDED\":\n",
    "            costResult = ucaCostCOMPOUNDED(email, semester, beenUCAtracker[email][\"hours\"])\n",
    "            totalCostWithRaise += costResult[\"ucaCost\"]\n",
    "            totalRaiseCost += costResult[\"raise\"]\n",
    "        \n",
    "        if email in totalCostPerUCA:\n",
    "            totalCostPerUCA[email] = totalCostPerUCA[email] + costResult[\"ucaCost\"]\n",
    "        else:\n",
    "            totalCostPerUCA[email] = costResult[\"ucaCost\"]\n",
    "\n",
    "    currentbeenUCAtracker = beenUCAtracker.copy()\n",
    "    semesterUCAPayLevel[semester] = currentbeenUCAtracker\n",
    "\n",
    "#print(beenUCAtracker)"
   ]
  },
  {
   "cell_type": "code",
   "execution_count": 7,
   "metadata": {},
   "outputs": [
    {
     "data": {
      "text/plain": [
       "953681.25"
      ]
     },
     "execution_count": 7,
     "metadata": {},
     "output_type": "execute_result"
    }
   ],
   "source": [
    "totalCostWithRaise"
   ]
  },
  {
   "cell_type": "code",
   "execution_count": 8,
   "metadata": {},
   "outputs": [
    {
     "data": {
      "text/plain": [
       "9168.75"
      ]
     },
     "execution_count": 8,
     "metadata": {},
     "output_type": "execute_result"
    }
   ],
   "source": [
    "totalRaiseCost"
   ]
  },
  {
   "cell_type": "code",
   "execution_count": 9,
   "metadata": {},
   "outputs": [],
   "source": [
    "#totalCostPerUCA"
   ]
  },
  {
   "cell_type": "code",
   "execution_count": 10,
   "metadata": {},
   "outputs": [
    {
     "data": {
      "text/html": "<div>\n<style scoped>\n    .dataframe tbody tr th:only-of-type {\n        vertical-align: middle;\n    }\n\n    .dataframe tbody tr th {\n        vertical-align: top;\n    }\n\n    .dataframe thead th {\n        text-align: right;\n    }\n</style>\n<table border=\"1\" class=\"dataframe\">\n  <thead>\n    <tr style=\"text-align: right;\">\n      <th></th>\n      <th>Email</th>\n      <th>Total Earnings</th>\n    </tr>\n  </thead>\n  <tbody>\n    <tr>\n      <th>0</th>\n      <td>kluo@umass.edu</td>\n      <td>993.75</td>\n    </tr>\n    <tr>\n      <th>1</th>\n      <td>aviola@umass.edu</td>\n      <td>5043.75</td>\n    </tr>\n    <tr>\n      <th>2</th>\n      <td>edmann@umass.edu</td>\n      <td>3018.75</td>\n    </tr>\n    <tr>\n      <th>3</th>\n      <td>denlow@umass.edu</td>\n      <td>993.75</td>\n    </tr>\n    <tr>\n      <th>4</th>\n      <td>allussier@umass.edu</td>\n      <td>5043.75</td>\n    </tr>\n    <tr>\n      <th>...</th>\n      <td>...</td>\n      <td>...</td>\n    </tr>\n    <tr>\n      <th>437</th>\n      <td>weijiesong@umass.edu</td>\n      <td>1068.75</td>\n    </tr>\n    <tr>\n      <th>438</th>\n      <td>tjain@umass.edu</td>\n      <td>1068.75</td>\n    </tr>\n    <tr>\n      <th>439</th>\n      <td>jhernandez@umass.edu</td>\n      <td>1068.75</td>\n    </tr>\n    <tr>\n      <th>440</th>\n      <td>ikeita@umass.edu</td>\n      <td>1068.75</td>\n    </tr>\n    <tr>\n      <th>441</th>\n      <td>skhettry@umass.edu</td>\n      <td>1068.75</td>\n    </tr>\n  </tbody>\n</table>\n<p>442 rows × 2 columns</p>\n</div>",
      "text/plain": [
       "                    Email  Total Earnings\n",
       "0          kluo@umass.edu          993.75\n",
       "1        aviola@umass.edu         5043.75\n",
       "2        edmann@umass.edu         3018.75\n",
       "3        denlow@umass.edu          993.75\n",
       "4     allussier@umass.edu         5043.75\n",
       "..                    ...             ...\n",
       "437  weijiesong@umass.edu         1068.75\n",
       "438       tjain@umass.edu         1068.75\n",
       "439  jhernandez@umass.edu         1068.75\n",
       "440      ikeita@umass.edu         1068.75\n",
       "441    skhettry@umass.edu         1068.75\n",
       "\n",
       "[442 rows x 2 columns]"
      ]
     },
     "execution_count": 10,
     "metadata": {},
     "output_type": "execute_result"
    }
   ],
   "source": [
    "totalCostPerUCADF = pd.DataFrame(list(totalCostPerUCA.items()),columns = [\"Email\", \"Total Earnings\"]) \n",
    "totalCostPerUCADF"
   ]
  },
  {
   "cell_type": "markdown",
   "metadata": {},
   "source": [
    "Looking at Pay Levels per semester - will be calculated more on the spreadsheet"
   ]
  },
  {
   "cell_type": "code",
   "execution_count": 11,
   "metadata": {},
   "outputs": [],
   "source": [
    "payLevelS18 = pd.DataFrame(semesterUCAPayLevel[\"S18\"]).transpose()\n",
    "\n",
    "payLevelF18 = pd.DataFrame(semesterUCAPayLevel[\"F18\"]).transpose()\n",
    "payLevelF18 = payLevelF18[payLevelF18[\"mostCurrSem\"]==\"F18\"]\n",
    "\n",
    "payLevelS19 = pd.DataFrame(semesterUCAPayLevel[\"S19\"]).transpose()\n",
    "payLevelS19 = payLevelS19[payLevelS19[\"mostCurrSem\"]==\"S19\"]\n",
    "\n",
    "payLevelF19 = pd.DataFrame(semesterUCAPayLevel[\"F19\"]).transpose()\n",
    "payLevelF19 = payLevelF19[payLevelF19[\"mostCurrSem\"]==\"F19\"]\n",
    "\n",
    "payLevelS20 = pd.DataFrame(semesterUCAPayLevel[\"S20\"]).transpose()\n",
    "payLevelS20 = payLevelS20[payLevelS20[\"mostCurrSem\"]==\"S20\"]\n",
    "\n",
    "payLevelF20 = pd.DataFrame(semesterUCAPayLevel[\"F20\"]).transpose()\n",
    "payLevelF20 = payLevelF20[payLevelF20[\"mostCurrSem\"]==\"F20\"]\n",
    "\n",
    "payLevelS21 = pd.DataFrame(semesterUCAPayLevel[\"S21\"]).transpose()\n",
    "payLevelS21 = payLevelS21[payLevelS21[\"mostCurrSem\"]==\"S21\"]\n",
    "\n",
    "payLevelF21 = pd.DataFrame(semesterUCAPayLevel[\"F21\"]).transpose()\n",
    "payLevelF21 = payLevelF21[payLevelF21[\"mostCurrSem\"]==\"F21\"]"
   ]
  },
  {
   "cell_type": "code",
   "execution_count": 12,
   "metadata": {},
   "outputs": [],
   "source": [
    "#Exporting Excel Sheets\n",
    "\n",
    "#writer = pd.ExcelWriter('payLevelS21.xlsx')\n",
    "# write dataframe to excel\n",
    "#payLevelS21.to_excel(writer)\n",
    "# save the excel\n",
    "#writer.save()"
   ]
  },
  {
   "cell_type": "code",
   "execution_count": null,
   "metadata": {},
   "outputs": [],
   "source": []
  }
 ],
 "metadata": {
  "language_info": {},
  "orig_nbformat": 3
 },
 "nbformat": 4,
 "nbformat_minor": 2
}